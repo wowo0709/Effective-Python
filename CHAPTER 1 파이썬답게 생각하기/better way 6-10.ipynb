{
 "cells": [
  {
   "cell_type": "markdown",
   "metadata": {},
   "source": [
    "## Bettery way 6. 인덱스를 사용하는 대신 대입을 사용해 데이터를 언패킹하라\n",
    "\n",
    "- 파이썬은 한 문장 안에서 여러 값을 대입할 수 있는 언패킹이라는 특별한 문법을 제공한다. \n",
    "- 파이썬 언패킹은 일반화돼 있으므로 모든 이터러블에 적용할 수 있다. 이터러블이 여러 계층으로 내포된 경우에도 언패킹을 적용할 수 있다. \n",
    "- 인텍스를 사용해 시퀀스 내부에 접근하는 대신 언패킹을 사용해 코드를 더 명확하게 만들라. "
   ]
  },
  {
   "cell_type": "markdown",
   "metadata": {},
   "source": [
    "**예시 1**"
   ]
  },
  {
   "cell_type": "code",
   "execution_count": 55,
   "metadata": {},
   "outputs": [
    {
     "name": "stdout",
     "output_type": "stream",
     "text": [
      "Peanut butter and Jelly\n",
      "Peanut butter and Jelly\n"
     ]
    }
   ],
   "source": [
    "# 인덱싱\n",
    "item = ('Peanut butter', 'Jelly')\n",
    "first = item[0]\n",
    "second = item[1]\n",
    "print(first, 'and', second)\n",
    "\n",
    "# 언패킹\n",
    "item = ('Peanut butter', 'Jelly')\n",
    "first, second = item  # Unpacking\n",
    "print(first, 'and', second)"
   ]
  },
  {
   "cell_type": "markdown",
   "metadata": {},
   "source": [
    "**예시 2**"
   ]
  },
  {
   "cell_type": "code",
   "execution_count": 56,
   "metadata": {},
   "outputs": [
    {
     "name": "stdout",
     "output_type": "stream",
     "text": [
      "['arugula', 'bacon', 'carrots', 'pretzels']\n",
      "['arugula', 'bacon', 'carrots', 'pretzels']\n"
     ]
    }
   ],
   "source": [
    "# 인덱싱\n",
    "def bubble_sort(a):\n",
    "\tfor _ in range(len(a)):\n",
    "\t\tfor i in range(1, len(a)):\n",
    "\t\t\tif a[i] < a[i-1]:\n",
    "\t\t\t\ttemp = a[i]\n",
    "\t\t\t\ta[i] = a[i-1]\n",
    "\t\t\t\ta[i-1] = temp\n",
    "\n",
    "names = ['pretzels', 'carrots', 'arugula', 'bacon']\n",
    "bubble_sort(names)\n",
    "print(names)\n",
    "\n",
    "# 언패킹\n",
    "def bubble_sort(a):\n",
    "\tfor _ in range(len(a)):\n",
    "\t\tfor i in range(1, len(a)):\n",
    "\t\t\tif a[i] < a[i-1]:\n",
    "\t\t\t\ta[i-1], a[i] = a[i], a[i-1]  # Swap\n",
    "\n",
    "names = ['pretzels', 'carrots', 'arugula', 'bacon']\n",
    "bubble_sort(names)\n",
    "print(names)"
   ]
  },
  {
   "cell_type": "markdown",
   "metadata": {},
   "source": [
    "**예시 3**"
   ]
  },
  {
   "cell_type": "code",
   "execution_count": 57,
   "metadata": {},
   "outputs": [
    {
     "name": "stdout",
     "output_type": "stream",
     "text": [
      "#1: bacon has 350 calories\n",
      "#2: donut has 240 calories\n",
      "#3: muffin has 190 calories\n",
      "#1: bacon has 350 calories\n",
      "#2: donut has 240 calories\n",
      "#3: muffin has 190 calories\n"
     ]
    }
   ],
   "source": [
    "# 인덱싱\n",
    "snacks = [('bacon', 350), ('donut', 240), ('muffin', 190)]\n",
    "for i in range(len(snacks)):\n",
    "\titem = snacks[i]\n",
    "\tname = item[0]\n",
    "\tcalories = item[1]\n",
    "\tprint(f'#{i+1}: {name} has {calories} calories')\n",
    "\n",
    "# 언패킹\n",
    "for rank, (name, calories) in enumerate(snacks, 1):\n",
    "\tprint(f'#{rank}: {name} has {calories} calories')"
   ]
  },
  {
   "cell_type": "markdown",
   "metadata": {},
   "source": [
    "## Bettery way 7. range보다는 enumerate를 사용하라\n",
    "\n",
    "- enumerate를 사용하면 이터레이터에 대해 루프를 돌면서 이터레이터에서 가져오는 원소의 인덱스까지 얻는 코드를 간결하게 작성할 수 있다. \n",
    "- range에 대해 루프를 돌면서 시퀀스의 원소를 가져오기보다는 enumerate를 사용하라. \n",
    "- enumerate의 두 번째 파라미터로 어디부터 수를 세기 시작할 지 지정할 수 있다. "
   ]
  },
  {
   "cell_type": "markdown",
   "metadata": {},
   "source": [
    "range를 사용할 때는 보통 아래와 같이 사용하며, `len`과 함께 사용한다. \n",
    "\n",
    "이러한 코드는 list의 길이를 알아야 하고, 인덱스를 사용해 배열 원소에 접근해야 한다. "
   ]
  },
  {
   "cell_type": "code",
   "execution_count": 58,
   "metadata": {},
   "outputs": [
    {
     "name": "stdout",
     "output_type": "stream",
     "text": [
      "1: vanilla\n",
      "2: chocolate\n",
      "3: pecan\n",
      "4: strawberry\n"
     ]
    }
   ],
   "source": [
    "flavor_list = ['vanilla', 'chocolate', 'pecan', 'strawberry']\n",
    "\n",
    "for i in range(len(flavor_list)):\n",
    "    flavor = flavor_list[i]\n",
    "    print(f'{i + 1}: {flavor}')"
   ]
  },
  {
   "cell_type": "markdown",
   "metadata": {},
   "source": [
    "대신에, enumerate 내장 함수를 사용할 수 있다. \n",
    "\n",
    "enumerate는 이터레이터를 `lazy generator`로 감싼다. lazy generator에서는 `next()` 또는 `for 문`을 통해 직접적인 참조가 이루어질 때 값을 메모리에 올리기 때문에 효율적이며, 가독성도 더 좋다. "
   ]
  },
  {
   "cell_type": "code",
   "execution_count": 59,
   "metadata": {},
   "outputs": [
    {
     "name": "stdout",
     "output_type": "stream",
     "text": [
      "(0, 'vanilla')\n",
      "(1, 'chocolate')\n"
     ]
    }
   ],
   "source": [
    "# enumerate 예시\n",
    "it = enumerate(flavor_list)\n",
    "print(next(it))\n",
    "print(next(it))"
   ]
  },
  {
   "cell_type": "markdown",
   "metadata": {},
   "source": [
    "enumerate가 넘겨주는 각 쌍을 for문에서 간결하게 언패킹 할 수 있다. \n",
    "\n",
    "또한 enumerate의 두 번째 파라미터로 어디부터 수를 세기 시작할 지 지정할 수 있다. "
   ]
  },
  {
   "cell_type": "code",
   "execution_count": 60,
   "metadata": {},
   "outputs": [
    {
     "name": "stdout",
     "output_type": "stream",
     "text": [
      "1: vanilla\n",
      "2: chocolate\n",
      "3: pecan\n",
      "4: strawberry\n"
     ]
    }
   ],
   "source": [
    "for i, flavor in enumerate(flavor_list, 1):\n",
    "    print(f'{i}: {flavor}')"
   ]
  },
  {
   "cell_type": "markdown",
   "metadata": {},
   "source": [
    "## Better way 8. 여러 iterator에 대해 나란히 loop를 수행하려면 zip을 사용하라\n",
    "\n",
    "- zip 내장 함수를 이용하여 여러 이터레이터를 나란히 이터레이션 할 수 있다. \n",
    "- 입력 이터레이터의 길이가 서로 다르면 zip은 아무 경고 없이 가장 짧은 이터레이터 길이까지만 튜플을 내놓고 더 긴 이터레이터의 나머지 원소를 무시한다. \n",
    "- 가장 짧은 이터레이터에 맞춰 길이를 제한하지 않고 길이가 서로 다른 이터레이터에 대해 루프를 수행하려면 itertools 내장 모듈의 `zip_longest` 함수를 사용하라. "
   ]
  },
  {
   "cell_type": "markdown",
   "metadata": {},
   "source": [
    "`zip` 이터레이터는 각 이터레이터의 다음 값이 들어있는 튜플을 반환한다. 이 튜플을 for 문에서 바로 언패킹할 수 있다. \n",
    "\n",
    "zip은 입력으로 주어진 이터레이터 중 어느 하나가 끝날 때까지 튜플을 내놓는다. 즉, zip의 출력은 가장 짧은 입력 이터레이터의 길이와 같다. "
   ]
  },
  {
   "cell_type": "code",
   "execution_count": 61,
   "metadata": {},
   "outputs": [
    {
     "name": "stdout",
     "output_type": "stream",
     "text": [
      "Cecilia\n",
      "Lise\n",
      "Marie\n"
     ]
    }
   ],
   "source": [
    "names = ['Cecilia', 'Lise', 'Marie']\n",
    "counts = [len(n) for n in names]\n",
    "\n",
    "names.append('Rosalind')\n",
    "for name, count in zip(names, counts):\n",
    "    print(name)"
   ]
  },
  {
   "cell_type": "markdown",
   "metadata": {},
   "source": [
    "긴 이터레이터의 뒷부분을 이용해야 한다면, itertools 내장 모듈에 들어있는 `zip_longest` 함수를 사용하라. \n",
    "\n",
    "zip_longest는 존재하지 않는 값을 자신에게 전달된 `fillvalue`로 대신한다. 디폴트 fillvalue는 None이다. "
   ]
  },
  {
   "cell_type": "code",
   "execution_count": 62,
   "metadata": {},
   "outputs": [
    {
     "name": "stdout",
     "output_type": "stream",
     "text": [
      "Cecilia: 7\n",
      "Lise: 4\n",
      "Marie: 5\n",
      "Rosalind: -1\n"
     ]
    }
   ],
   "source": [
    "import itertools\n",
    "\n",
    "for name, count in itertools.zip_longest(names, counts, fillvalue=-1):\n",
    "    print(f'{name}: {count}')"
   ]
  },
  {
   "cell_type": "markdown",
   "metadata": {},
   "source": [
    "## Better way 9. for나 while loop 뒤에 else 블록을 사용하지 말라\n",
    "\n",
    "- 파이썬은 for나 while 루프에 속한 블록 바로 뒤에 else 블록을 허용하는 특별한 문법을 제공한다. \n",
    "- 루프 뒤에 오는 else 블록은 루프가 정상종료 되었을 때(break를 만나지 않았을 때)에만 실행된다. \n",
    "- 동작이 직관적이지 않고 혼동을 야기할 수 있으므로, 루프 뒤에 else 블록을 사용하지 말라. "
   ]
  },
  {
   "cell_type": "markdown",
   "metadata": {},
   "source": [
    "파이썬에서 if-else, try-except-else-finally 문 등을 배운 프로그래머는 for-else 문에서 else 부분을 **루프가 정상적으로 완료되지 않으면 이 블록을 실행하라**라는 뜻으로 가정하기 쉽다. \n",
    "\n",
    "하지만 실제 for-else에서 else 문은 **for 문이 끝까지 정상 종료했을 때** 실행된다. "
   ]
  },
  {
   "cell_type": "code",
   "execution_count": 63,
   "metadata": {},
   "outputs": [
    {
     "name": "stdout",
     "output_type": "stream",
     "text": [
      "Loop 0\n",
      "Loop 1\n",
      "Loop 2\n",
      "Else block 1\n",
      "Loop 0\n",
      "Loop 1\n"
     ]
    }
   ],
   "source": [
    "for i in range(3):\n",
    "    print('Loop', i)\n",
    "else:\n",
    "    print('Else block 1')\n",
    "\n",
    "for i in range(3):\n",
    "    print('Loop', i)\n",
    "    if i == 1:\n",
    "        break\n",
    "else:\n",
    "    print('Else block 2')"
   ]
  },
  {
   "cell_type": "markdown",
   "metadata": {},
   "source": [
    "for 문에서 empty sequence가 주어졌을 때도 else 문은 바로 실행된다. \n",
    "\n",
    "또한 while 루프의 조건이 처음부터 False인 경우에도 else 블록이 바로 실행된다. "
   ]
  },
  {
   "cell_type": "code",
   "execution_count": 64,
   "metadata": {},
   "outputs": [
    {
     "name": "stdout",
     "output_type": "stream",
     "text": [
      "For Else block!\n",
      "While Else block!\n"
     ]
    }
   ],
   "source": [
    "for x in []:\n",
    "    print('Never runs')\n",
    "else:\n",
    "    print('For Else block!')\n",
    "\n",
    "while False:\n",
    "    print('Never runs')\n",
    "else:\n",
    "    print('While Else block!')"
   ]
  },
  {
   "cell_type": "markdown",
   "metadata": {},
   "source": [
    "이런 식으로 동작하는 이유는 루프를 사용해 검색을 수행할 경우, 루프 바로 뒤에 있는 else 블록이 그와 같이 동작해야 유용하기 때문이다. \n",
    "\n",
    "예를 들어, 두 수가 서로소인지 검사하는 코드를 작성한다고 하자. "
   ]
  },
  {
   "cell_type": "code",
   "execution_count": 65,
   "metadata": {},
   "outputs": [
    {
     "name": "stdout",
     "output_type": "stream",
     "text": [
      "Testing 2\n",
      "Testing 3\n",
      "Testing 4\n",
      "Coprime\n"
     ]
    }
   ],
   "source": [
    "a = 4\n",
    "b = 9\n",
    "\n",
    "for i in range(2, min(a, b) + 1):\n",
    "    print('Testing', i)\n",
    "    if a % i == 0 and b % i == 0:\n",
    "        print('Not coprime')\n",
    "        break\n",
    "else:\n",
    "    print('Coprime')"
   ]
  },
  {
   "cell_type": "markdown",
   "metadata": {},
   "source": [
    "대신에, 계산을 수행하는 도우미 함수를 작성하는 것이 좋다. \n",
    "\n",
    "for-else 문을 대체하기 위해 2가지 방식으로 작성할 수 있다. "
   ]
  },
  {
   "cell_type": "code",
   "execution_count": 66,
   "metadata": {},
   "outputs": [],
   "source": [
    "# 방식 1\n",
    "def coprime(a, b):\n",
    "    for i in range(2, min(a, b) + 1):\n",
    "        if a % i == 0 and b % i == 0:\n",
    "            return False\n",
    "    return True\n",
    "\n",
    "assert coprime(4, 9)\n",
    "assert not coprime(3, 6)"
   ]
  },
  {
   "cell_type": "code",
   "execution_count": 67,
   "metadata": {},
   "outputs": [],
   "source": [
    "# 방식 2\n",
    "def coprime_alternate(a, b):\n",
    "    is_coprime = True\n",
    "    for i in range(2, min(a, b) + 1):\n",
    "        if a % i == 0 and b % i == 0:\n",
    "            is_coprime = False\n",
    "            break\n",
    "    return is_coprime\n",
    "\n",
    "assert coprime_alternate(4, 9)\n",
    "assert not coprime_alternate(3, 6)"
   ]
  },
  {
   "cell_type": "markdown",
   "metadata": {},
   "source": [
    "뭐가 되었든, for-else 문을 사용하는 것보다 훨씬 명확해 보인다. \n",
    "\n",
    "for-else 문을 사용하여 얻을 수 있는 표현력보다는 이 코드를 이해하려는 사람들(자신 포함)이 느끼게 될 부담감이 더 크다. \n",
    "\n",
    "파이썬에서 루프와 같은 간단한 구성 요소는 그 자체로 의미가 명확해야 한다. 따라서 절대로 루프 뒤에 else 블록을 사용하지 말아야 한다. "
   ]
  },
  {
   "cell_type": "markdown",
   "metadata": {},
   "source": [
    "## Bettery way 10. 대입식을 사용해 반복을 피하라"
   ]
  },
  {
   "cell_type": "markdown",
   "metadata": {},
   "source": [
    "대입식은 영어로 assignment expression이며, **왈러스 연산자 (walrus operator)** 라고도 부른다. 이 대입식은 파이썬 언어에서 고질적인 코드 중복 문제를 해결하고자 파이썬 3.8에서 새롭게 도입된 구문이다. \n",
    "\n",
    "일반 대입문은 `a = b` 라고 쓰며 `a equal b`라고 읽는다. 왈러스 연산자는 `a := b`라고 쓰며 `a walrus b`라고 읽는다. (왈러스라는 이름은 :=이 바다코끼리(walrus)의 눈과 엄니처럼 보이기 때문에 붙여졌다).\n",
    "\n",
    "왈러스 연산자을 사용하면 코드의 길이도 짧아지지만, **변수가 특정 부분에서만 의미있다는 것**을 명확히 드러낼 수 있어 더 얽기 쉽다."
   ]
  },
  {
   "cell_type": "code",
   "execution_count": 68,
   "metadata": {},
   "outputs": [],
   "source": [
    "# 변수 및 함수 정의\n",
    "fresh_fruit = {\n",
    "    'apple': 10,\n",
    "    'banana': 8,\n",
    "    'lemon': 5,\n",
    "}\n",
    "\n",
    "def make_lemonade(count):\n",
    "    print(f'Making {count} lemons into lemonade')\n",
    "\n",
    "def make_cider(count):\n",
    "    print(f'Making cider with {count} apples')\n",
    "\n",
    "def out_of_stock():\n",
    "    print('Out of stock!')\n",
    "\n",
    "def slice_bananas(count):\n",
    "    print(f'Slicing {count} bananas')\n",
    "    return count * 4\n",
    "\n",
    "def make_smoothies(count):\n",
    "    print(f'Making a smoothies with {count} banana slices')"
   ]
  },
  {
   "cell_type": "code",
   "execution_count": 69,
   "metadata": {},
   "outputs": [
    {
     "name": "stdout",
     "output_type": "stream",
     "text": [
      "Making cider with 10 apples\n"
     ]
    }
   ],
   "source": [
    "# 대입문\n",
    "count = fresh_fruit.get('apple', 0)\n",
    "if count >= 4:\n",
    "    make_cider(count)\n",
    "else:\n",
    "    out_of_stock()"
   ]
  },
  {
   "cell_type": "code",
   "execution_count": 70,
   "metadata": {},
   "outputs": [
    {
     "name": "stdout",
     "output_type": "stream",
     "text": [
      "Making cider with 10 apples\n"
     ]
    }
   ],
   "source": [
    "# 왈러스 연산자\n",
    "if (count := fresh_fruit.get('apple', 0)) >= 4:\n",
    "    make_cider(count)\n",
    "else:\n",
    "    out_of_stock()"
   ]
  },
  {
   "cell_type": "markdown",
   "metadata": {},
   "source": [
    "왈러스 연산자는 `switch-case` 문의 훌륭한 대안이 되기도 한다. \n",
    "\n",
    "아래 두 코드를 비교해보자. "
   ]
  },
  {
   "cell_type": "code",
   "execution_count": 71,
   "metadata": {},
   "outputs": [
    {
     "name": "stdout",
     "output_type": "stream",
     "text": [
      "Slicing 8 bananas\n",
      "Making a smoothies with 32 banana slices\n"
     ]
    }
   ],
   "source": [
    "# 다중 if-else를 활용한 switch-case 문\n",
    "count = fresh_fruit.get('banana', 0)\n",
    "if count >= 2:\n",
    "    pieces = slice_bananas(count)\n",
    "    to_enjoy = make_smoothies(pieces)\n",
    "else:\n",
    "    count = fresh_fruit.get('apple', 0)\n",
    "    if count >= 4:\n",
    "        to_enjoy = make_cider(count)\n",
    "    else:\n",
    "        count = fresh_fruit.get('lemon', 0)\n",
    "        if count:\n",
    "            to_enjoy = make_lemonade(count)\n",
    "        else:\n",
    "            to_enjoy = 'Nothing'"
   ]
  },
  {
   "cell_type": "code",
   "execution_count": 72,
   "metadata": {},
   "outputs": [
    {
     "name": "stdout",
     "output_type": "stream",
     "text": [
      "Slicing 8 bananas\n",
      "Making a smoothies with 32 banana slices\n"
     ]
    }
   ],
   "source": [
    "# 왈러스 연산자를 활용한 switch-case 문\n",
    "if (count := fresh_fruit.get('banana', 0)) >= 2:\n",
    "    pieces = slice_bananas(count)\n",
    "    to_enjoy = make_smoothies(pieces)\n",
    "elif (count := fresh_fruit.get('apple', 0)) >= 4:\n",
    "    to_enjoy = make_cider(count)\n",
    "elif count := fresh_fruit.get('lemon', 0):\n",
    "    to_enjoy = make_lemonade(count)\n",
    "else:\n",
    "    to_enjoy = 'Nothing'"
   ]
  },
  {
   "cell_type": "markdown",
   "metadata": {},
   "source": [
    "또는 `do-while` 문을 대체할 수도 있다. \n",
    "\n",
    "많은 경우에 파이썬에서는 while문이 아래와 같이 작성된다. "
   ]
  },
  {
   "cell_type": "code",
   "execution_count": 73,
   "metadata": {},
   "outputs": [],
   "source": [
    "# 변수 및 함수 정의\n",
    "FRUIT_TO_PICK = [\n",
    "    {'apple': 1, 'banana': 3},\n",
    "    {'lemon': 2, 'lime': 5},\n",
    "    {'orange': 3, 'melon': 2},\n",
    "]\n",
    "\n",
    "def pick_fruit():\n",
    "    if FRUIT_TO_PICK:\n",
    "        return FRUIT_TO_PICK.pop(0)\n",
    "    else:\n",
    "        return []\n",
    "\n",
    "def make_juice(fruit, count):\n",
    "    return [(fruit, count)]"
   ]
  },
  {
   "cell_type": "code",
   "execution_count": 74,
   "metadata": {},
   "outputs": [
    {
     "name": "stdout",
     "output_type": "stream",
     "text": [
      "[('apple', 1), ('banana', 3), ('lemon', 2), ('lime', 5), ('orange', 3), ('melon', 2)]\n"
     ]
    }
   ],
   "source": [
    "# 파이썬에서의 while 구문\n",
    "bottles = []\n",
    "fresh_fruit = pick_fruit()\n",
    "while fresh_fruit:\n",
    "    for fruit, count in fresh_fruit.items():\n",
    "        batch = make_juice(fruit, count)\n",
    "        bottles.extend(batch)\n",
    "    fresh_fruit = pick_fruit()\n",
    "\n",
    "print(bottles)"
   ]
  },
  {
   "cell_type": "markdown",
   "metadata": {},
   "source": [
    "위 코드는 `fresh_fruit = pick_fruit()` 호출을 두 번하므로 반복적이다. \n",
    "\n",
    "이 상황에서 코드 재사용을 향상시키기 위해 **무한 루프-중간에서 끝내기(loop-and-a-half)** 관용어를 사용할 수 있다. "
   ]
  },
  {
   "cell_type": "code",
   "execution_count": 75,
   "metadata": {},
   "outputs": [
    {
     "name": "stdout",
     "output_type": "stream",
     "text": [
      "[('apple', 1), ('banana', 3), ('lemon', 2), ('lime', 5), ('orange', 3), ('melon', 2)]\n"
     ]
    }
   ],
   "source": [
    "FRUIT_TO_PICK = [\n",
    "    {'apple': 1, 'banana': 3},\n",
    "    {'lemon': 2, 'lime': 5},\n",
    "    {'orange': 3, 'melon': 2},\n",
    "]\n",
    "\n",
    "bottles = []\n",
    "while True:                     # Loop\n",
    "    fresh_fruit = pick_fruit()\n",
    "    if not fresh_fruit:         # And a half\n",
    "        break\n",
    "    for fruit, count in fresh_fruit.items():\n",
    "        batch = make_juice(fruit, count)\n",
    "        bottles.extend(batch)\n",
    "\n",
    "print(bottles)"
   ]
  },
  {
   "cell_type": "markdown",
   "metadata": {},
   "source": [
    "하지만 위 코드는 while 루프를 맹목적인 무한 루프로 만들기 때문에 while 루프의 유용성이 떨어지며, 루프의 흐름 제어가 모두 break 문에 달려있기 때문에 권장되지 않는다. \n",
    "\n",
    "대신에 **왈러스 연산자**를 사용하면 더 짧고 읽기 쉽게 작성할 수 있다. "
   ]
  },
  {
   "cell_type": "code",
   "execution_count": 76,
   "metadata": {},
   "outputs": [
    {
     "name": "stdout",
     "output_type": "stream",
     "text": [
      "[('apple', 1), ('banana', 3), ('lemon', 2), ('lime', 5), ('orange', 3), ('melon', 2)]\n"
     ]
    }
   ],
   "source": [
    "FRUIT_TO_PICK = [\n",
    "    {'apple': 1, 'banana': 3},\n",
    "    {'lemon': 2, 'lime': 5},\n",
    "    {'orange': 3, 'melon': 2},\n",
    "]\n",
    "\n",
    "bottles = []\n",
    "while fresh_fruit := pick_fruit(): # walrus operator\n",
    "    for fruit, count in fresh_fruit.items():\n",
    "        batch = make_juice(fruit, count)\n",
    "        bottles.extend(batch)\n",
    "\n",
    "print(bottles)"
   ]
  }
 ],
 "metadata": {
  "kernelspec": {
   "display_name": "Python 3 (ipykernel)",
   "language": "python",
   "name": "python3"
  },
  "language_info": {
   "codemirror_mode": {
    "name": "ipython",
    "version": 3
   },
   "file_extension": ".py",
   "mimetype": "text/x-python",
   "name": "python",
   "nbconvert_exporter": "python",
   "pygments_lexer": "ipython3",
   "version": "3.9.7"
  },
  "vscode": {
   "interpreter": {
    "hash": "a077222d77dfe082b8f1dd562ad70e458ac2ab76993a0b248ab0476e32e9e8dd"
   }
  }
 },
 "nbformat": 4,
 "nbformat_minor": 2
}
