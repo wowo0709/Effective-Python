{
 "cells": [
  {
   "cell_type": "markdown",
   "metadata": {},
   "source": [
    "## Better way 1. 사용 중인 파이썬의 버전을 알아두라. \n",
    "\n",
    "- 파이썬 3는 파이썬 최신 버전이며 현재 가장 잘 지원되고 있다. 따라서 프로젝트에서 파이썬 3를 써야 한다. \n",
    "- 현재 사용 중인 파이썬의 버전이 내가 원하는 버전인지 확인하라. "
   ]
  },
  {
   "cell_type": "markdown",
   "metadata": {},
   "source": [
    "**커맨드 라인**"
   ]
  },
  {
   "cell_type": "code",
   "execution_count": 2,
   "metadata": {},
   "outputs": [
    {
     "name": "stdout",
     "output_type": "stream",
     "text": [
      "Python 3.9.7\n"
     ]
    }
   ],
   "source": [
    "!python --version"
   ]
  },
  {
   "cell_type": "markdown",
   "metadata": {},
   "source": [
    "**`sys` 내장 모듈 사용**"
   ]
  },
  {
   "cell_type": "code",
   "execution_count": 3,
   "metadata": {},
   "outputs": [
    {
     "name": "stdout",
     "output_type": "stream",
     "text": [
      "sys.version_info(major=3, minor=9, micro=7, releaselevel='final', serial=0)\n",
      "3.9.7 (default, Sep 16 2021, 16:59:28) [MSC v.1916 64 bit (AMD64)]\n"
     ]
    }
   ],
   "source": [
    "import sys\n",
    "print(sys.version_info)\n",
    "print(sys.version)"
   ]
  },
  {
   "cell_type": "markdown",
   "metadata": {},
   "source": [
    "## Better way 2. PEP 8 스타일 가이드를 따르라\n",
    "\n",
    "- PEP(Python Enhancement Proposal) : 파이썬 코드를 어떤 식으로 작성할 지 알려주는 스타일 가이드\n",
    "\n",
    "**공백**\n",
    "- 들여쓰기는 탭 대신 스페이스(4칸) 사용\n",
    "- 라인 길이는 79개 문자 이하\n",
    "- 하나의 식을 다음 줄에 이어서 쓸 경우에는 일반적인 들여쓰기보다 4칸 더(총 8칸) 들여쓴다. \n",
    "- 파일 안에서 각 함수와 클래스 사이에는 빈 줄 2 줄 사용\n",
    "- 클래스 안에서 각 메서드 사이에는 빈 줄 1줄 사용\n",
    "- 변수 대입 시 `=` 전후에는 공백 1 칸만 사용\n",
    "- 콜론(`:`) 사용 시 전에는 공백 없이, 후에는 공백 1칸 사용\n",
    "\n",
    "**명명 규약**\n",
    "- 함수, 변수, 애트리뷰트(속성)는 `lowercase_underscore`\n",
    "- 보호되어야 하는 애트리뷰트는 `_leading_underscore`\n",
    "- 비공개(private) 애트리뷰트는 앞에 밑줄 2개 사용 `__leading_underscore`\n",
    "- 클래스는 각 단어의 첫 글자를 대문자로 `CapitalizedWord`\n",
    "- 모듈 수준의 상수는 모든 글자를 대문자로 하고 글자 사이를 밑줄로 연결 `ALL_CAPS`\n",
    "- 인스턴스 메서드는 첫번째 인자로 `self` 사용\n",
    "- 클래스 메서드는 첫번째 인자로 `cls` 사용\n",
    "\n",
    "**식과 문**\n",
    "- 긍정문의 부정(`if not a is b`) 대신 부정문의 긍정(`if a is not b`)을 사용\n",
    "- 빈 객체를 검사할 때는 길이(`if len(컨테이너) == 0`) 대신 False로 취급된다는 사실을 이용(`if not 컨테이너`)해라\n",
    "- 마찬가지로 비어 있지 않은 객체를 검사할 때에도 길이(`if len(컨테이너) > 0`) 대신 True로 취급된다는 사실을 이용(`if 컨테이너`)해라\n",
    "- 한 줄 짜리 if/for/while/except 문을 사용하지 마라. 명확성을 위해 각 부분을 여러 줄에 나눠 작성해라. \n",
    "- 식을 한 줄 안에 다 쓸 수 없는 경우, 식을 괄호로 묶고 줄바꿈과 들여쓰기를 이용해 읽기 쉽게 하라\n",
    "- 여러 줄에 걸쳐 식을 쓸 때는 `\\` 문자보다는 괄호(`()`)를 사용하라\n",
    "\n",
    "**임포트**\n",
    "- import 문은 항상 파일 맨 앞에 위치\n",
    "- 모듈을 임포트 할 때는 항상 절대 경로(from bar import foo)를 사용하라\n",
    "- 반드시 상대 경로로 임포트해야 하는 경우 `from . import foo` 처럼 명시적인 구문을 사용\n",
    "- 임포트를 적을 때는 표준 라이브러리 모듈, 서드 파티 모듈, 직접 만든 모듈 순서로 섹션을 나눈다. 각 섹션에서는 알파벳 순서로 임포트 문을 적는다. "
   ]
  },
  {
   "cell_type": "markdown",
   "metadata": {},
   "source": [
    "## Better way 3. bytes와 str의 차이를 알아두라\n",
    "\n",
    "- bytes에는 8비트 값의 시퀀스가 들어 있고, str에는 유니코드 코드 포인트의 시퀀스가 들어 있다. \n",
    "- bytes와 str 인스턴스를 (<, >, ==, +, % 와 같은) 연산자에 섞어서 사용할 수 없다. \n",
    "- 이진 데이터를 파일에서 읽고 쓸 때는 항상 이진 모드('rb', 'wb')로 파일을 열어라\n",
    "    - 유니코드 데이터를 파일에서 읽거나 파일에 쓰고 싶을 때는 시스템 디폴트 인코딩에 주의하라. 인코딩을 명시하기 위해서 open의 encoding 파라미터를 지정하라. "
   ]
  },
  {
   "cell_type": "markdown",
   "metadata": {},
   "source": [
    "**bytes VS str**\n",
    "\n",
    "- `bytes`에서는 부호가 없는 8바이트 데이터가 그대로 들어간다. (종종 ASCII code)\n",
    "- `str`에서는 사람이 사용하는 문자인 유니코드 code point가 들어가 있다. "
   ]
  },
  {
   "cell_type": "code",
   "execution_count": 6,
   "metadata": {},
   "outputs": [
    {
     "name": "stdout",
     "output_type": "stream",
     "text": [
      "[104, 101, 108, 108, 111]\n",
      "b'hello'\n"
     ]
    }
   ],
   "source": [
    "# bytes\n",
    "a = b'h\\x65llo'\n",
    "print(list(a))\n",
    "print(a)"
   ]
  },
  {
   "cell_type": "code",
   "execution_count": 5,
   "metadata": {},
   "outputs": [
    {
     "name": "stdout",
     "output_type": "stream",
     "text": [
      "['a', '̀', ' ', 'p', 'r', 'o', 'p', 'o', 's']\n",
      "à propos\n"
     ]
    }
   ],
   "source": [
    "a = 'a\\u0300 propos'\n",
    "print(list(a))\n",
    "print(a)"
   ]
  },
  {
   "cell_type": "markdown",
   "metadata": {},
   "source": [
    "**두 자료형은 호환되지 않는다.**\n",
    "\n",
    "- str 인스턴스에는 직접 대응하는 이진 인코딩이 없고, bytes에는 직접 대응하는 텍스트 인코딩이 없다. \n",
    "    - `문자열.encode`: 유니코드 데이터 -> 이진 데이터\n",
    "    - `바이트.decode`: 이진 데이터 -> 유니코드 데이터"
   ]
  },
  {
   "cell_type": "code",
   "execution_count": 10,
   "metadata": {},
   "outputs": [
    {
     "name": "stdout",
     "output_type": "stream",
     "text": [
      "<class 'bytes'> b'abcd'\n",
      "<class 'str'> abcd\n",
      "True\n"
     ]
    }
   ],
   "source": [
    "s = 'abcd'\n",
    "s_bytes = s.encode()\n",
    "print(type(s_bytes), s_bytes)\n",
    "\n",
    "s_str = s_bytes.decode()\n",
    "print(type(s_str), s_str)\n",
    "\n",
    "print(s == s_str)"
   ]
  },
  {
   "cell_type": "markdown",
   "metadata": {},
   "source": [
    "* 두 자료형 간 연산이 허용되지 않는다. "
   ]
  },
  {
   "cell_type": "code",
   "execution_count": 13,
   "metadata": {},
   "outputs": [
    {
     "name": "stdout",
     "output_type": "stream",
     "text": [
      "b'onetwo'\n",
      "onetwo\n"
     ]
    },
    {
     "ename": "TypeError",
     "evalue": "can't concat str to bytes",
     "output_type": "error",
     "traceback": [
      "\u001b[1;31m---------------------------------------------------------------------------\u001b[0m",
      "\u001b[1;31mTypeError\u001b[0m                                 Traceback (most recent call last)",
      "\u001b[1;32m~\\AppData\\Local\\Temp/ipykernel_16088/115322005.py\u001b[0m in \u001b[0;36m<module>\u001b[1;34m\u001b[0m\n\u001b[0;32m      1\u001b[0m \u001b[0mprint\u001b[0m\u001b[1;33m(\u001b[0m\u001b[1;34mb'one'\u001b[0m \u001b[1;33m+\u001b[0m \u001b[1;34mb'two'\u001b[0m\u001b[1;33m)\u001b[0m\u001b[1;33m\u001b[0m\u001b[1;33m\u001b[0m\u001b[0m\n\u001b[0;32m      2\u001b[0m \u001b[0mprint\u001b[0m\u001b[1;33m(\u001b[0m\u001b[1;34m'one'\u001b[0m \u001b[1;33m+\u001b[0m \u001b[1;34m'two'\u001b[0m\u001b[1;33m)\u001b[0m\u001b[1;33m\u001b[0m\u001b[1;33m\u001b[0m\u001b[0m\n\u001b[1;32m----> 3\u001b[1;33m \u001b[0mprint\u001b[0m\u001b[1;33m(\u001b[0m\u001b[1;34mb'one'\u001b[0m \u001b[1;33m+\u001b[0m \u001b[1;34m'two'\u001b[0m\u001b[1;33m)\u001b[0m\u001b[1;33m\u001b[0m\u001b[1;33m\u001b[0m\u001b[0m\n\u001b[0m",
      "\u001b[1;31mTypeError\u001b[0m: can't concat str to bytes"
     ]
    }
   ],
   "source": [
    "print(b'one' + b'two')\n",
    "print('one' + 'two')\n",
    "print(b'one' + 'two')"
   ]
  },
  {
   "cell_type": "code",
   "execution_count": 14,
   "metadata": {},
   "outputs": [
    {
     "name": "stdout",
     "output_type": "stream",
     "text": [
      "True\n",
      "True\n"
     ]
    },
    {
     "ename": "TypeError",
     "evalue": "'<' not supported between instances of 'bytes' and 'str'",
     "output_type": "error",
     "traceback": [
      "\u001b[1;31m---------------------------------------------------------------------------\u001b[0m",
      "\u001b[1;31mTypeError\u001b[0m                                 Traceback (most recent call last)",
      "\u001b[1;32m~\\AppData\\Local\\Temp/ipykernel_16088/3862181309.py\u001b[0m in \u001b[0;36m<module>\u001b[1;34m\u001b[0m\n\u001b[0;32m      1\u001b[0m \u001b[0mprint\u001b[0m\u001b[1;33m(\u001b[0m\u001b[1;34mb'one'\u001b[0m \u001b[1;33m<\u001b[0m \u001b[1;34mb'two'\u001b[0m\u001b[1;33m)\u001b[0m\u001b[1;33m\u001b[0m\u001b[1;33m\u001b[0m\u001b[0m\n\u001b[0;32m      2\u001b[0m \u001b[0mprint\u001b[0m\u001b[1;33m(\u001b[0m\u001b[1;34m'one'\u001b[0m \u001b[1;33m<\u001b[0m \u001b[1;34m'two'\u001b[0m\u001b[1;33m)\u001b[0m\u001b[1;33m\u001b[0m\u001b[1;33m\u001b[0m\u001b[0m\n\u001b[1;32m----> 3\u001b[1;33m \u001b[0mprint\u001b[0m\u001b[1;33m(\u001b[0m\u001b[1;34mb'one'\u001b[0m \u001b[1;33m<\u001b[0m \u001b[1;34m'two'\u001b[0m\u001b[1;33m)\u001b[0m\u001b[1;33m\u001b[0m\u001b[1;33m\u001b[0m\u001b[0m\n\u001b[0m",
      "\u001b[1;31mTypeError\u001b[0m: '<' not supported between instances of 'bytes' and 'str'"
     ]
    }
   ],
   "source": [
    "print(b'one' < b'two')\n",
    "print('one' < 'two')\n",
    "print(b'one' < 'two')"
   ]
  },
  {
   "cell_type": "markdown",
   "metadata": {},
   "source": [
    "* 내부에 동일한 문자들이 들어있더라도 str과 bytes 인스턴스를 비교하면 항상 False가 나온다. "
   ]
  },
  {
   "cell_type": "code",
   "execution_count": 15,
   "metadata": {},
   "outputs": [
    {
     "name": "stdout",
     "output_type": "stream",
     "text": [
      "False\n"
     ]
    }
   ],
   "source": [
    "print(b'foo' == 'foo')"
   ]
  },
  {
   "cell_type": "markdown",
   "metadata": {},
   "source": [
    "**파일 입출력 시 주의하라**\n",
    "\n",
    "- 텍스트 쓰기/읽기 모드('w'/'r')와 이진 쓰기/읽기 모드('wb'/'rb')는 구분된다. "
   ]
  },
  {
   "cell_type": "code",
   "execution_count": 16,
   "metadata": {},
   "outputs": [
    {
     "ename": "TypeError",
     "evalue": "write() argument must be str, not bytes",
     "output_type": "error",
     "traceback": [
      "\u001b[1;31m---------------------------------------------------------------------------\u001b[0m",
      "\u001b[1;31mTypeError\u001b[0m                                 Traceback (most recent call last)",
      "\u001b[1;32m~\\AppData\\Local\\Temp/ipykernel_16088/1307206295.py\u001b[0m in \u001b[0;36m<module>\u001b[1;34m\u001b[0m\n\u001b[0;32m      1\u001b[0m \u001b[1;32mwith\u001b[0m \u001b[0mopen\u001b[0m\u001b[1;33m(\u001b[0m\u001b[1;34m'data.bin'\u001b[0m\u001b[1;33m,\u001b[0m \u001b[1;34m'w'\u001b[0m\u001b[1;33m)\u001b[0m \u001b[1;32mas\u001b[0m \u001b[0mf\u001b[0m\u001b[1;33m:\u001b[0m\u001b[1;33m\u001b[0m\u001b[1;33m\u001b[0m\u001b[0m\n\u001b[1;32m----> 2\u001b[1;33m     \u001b[0mf\u001b[0m\u001b[1;33m.\u001b[0m\u001b[0mwrite\u001b[0m\u001b[1;33m(\u001b[0m\u001b[1;34mb'\\xf1\\xf2\\xf3\\xf4\\xf5'\u001b[0m\u001b[1;33m)\u001b[0m\u001b[1;33m\u001b[0m\u001b[1;33m\u001b[0m\u001b[0m\n\u001b[0m",
      "\u001b[1;31mTypeError\u001b[0m: write() argument must be str, not bytes"
     ]
    }
   ],
   "source": [
    "with open('data.bin', 'w') as f:\n",
    "    f.write(b'\\xf1\\xf2\\xf3\\xf4\\xf5')"
   ]
  },
  {
   "cell_type": "code",
   "execution_count": 17,
   "metadata": {},
   "outputs": [],
   "source": [
    "with open('data.bin', 'wb') as f:\n",
    "    f.write(b'\\xf1\\xf2\\xf3\\xf4\\xf5')"
   ]
  },
  {
   "cell_type": "code",
   "execution_count": 18,
   "metadata": {},
   "outputs": [
    {
     "ename": "UnicodeDecodeError",
     "evalue": "'cp949' codec can't decode byte 0xf5 in position 4: incomplete multibyte sequence",
     "output_type": "error",
     "traceback": [
      "\u001b[1;31m---------------------------------------------------------------------------\u001b[0m",
      "\u001b[1;31mUnicodeDecodeError\u001b[0m                        Traceback (most recent call last)",
      "\u001b[1;32m~\\AppData\\Local\\Temp/ipykernel_16088/800754018.py\u001b[0m in \u001b[0;36m<module>\u001b[1;34m\u001b[0m\n\u001b[0;32m      1\u001b[0m \u001b[1;32mwith\u001b[0m \u001b[0mopen\u001b[0m\u001b[1;33m(\u001b[0m\u001b[1;34m'data.bin'\u001b[0m\u001b[1;33m,\u001b[0m \u001b[1;34m'r'\u001b[0m\u001b[1;33m)\u001b[0m \u001b[1;32mas\u001b[0m \u001b[0mf\u001b[0m\u001b[1;33m:\u001b[0m\u001b[1;33m\u001b[0m\u001b[1;33m\u001b[0m\u001b[0m\n\u001b[1;32m----> 2\u001b[1;33m     \u001b[0mdata\u001b[0m \u001b[1;33m=\u001b[0m \u001b[0mf\u001b[0m\u001b[1;33m.\u001b[0m\u001b[0mread\u001b[0m\u001b[1;33m(\u001b[0m\u001b[1;33m)\u001b[0m\u001b[1;33m\u001b[0m\u001b[1;33m\u001b[0m\u001b[0m\n\u001b[0m",
      "\u001b[1;31mUnicodeDecodeError\u001b[0m: 'cp949' codec can't decode byte 0xf5 in position 4: incomplete multibyte sequence"
     ]
    }
   ],
   "source": [
    "with open('data.bin', 'r') as f:\n",
    "    data = f.read()"
   ]
  },
  {
   "cell_type": "code",
   "execution_count": 20,
   "metadata": {},
   "outputs": [
    {
     "name": "stdout",
     "output_type": "stream",
     "text": [
      "True\n"
     ]
    }
   ],
   "source": [
    "with open('data.bin', 'rb') as f:\n",
    "    data = f.read()\n",
    "\n",
    "print(data == b'\\xf1\\xf2\\xf3\\xf4\\xf5')"
   ]
  },
  {
   "cell_type": "markdown",
   "metadata": {},
   "source": [
    "## "
   ]
  },
  {
   "cell_type": "markdown",
   "metadata": {},
   "source": [
    "## Bettery way 4. C 스타일 형식 문자열을 str.format과 쓰기보다는 f-문자열을 통한 인터폴레이션을 사용하라\n",
    "\n",
    "- % 연산자를 사용하는 C 스타일 문자열은 여러가지 단점과 번잡성이라는 문제가 있다. \n",
    "- str.format 메서드는 유용한 추가 기능들을 제공하지만, 여전히 C 스타일 문자열의 문제점을 그대로 가지고 있다. \n",
    "- f-문자열은 값을 문자열 안에 넣는 새로운 구문으로, 간결하면서도 기존 문제점을 해결하고 기능은 그대로 제공한다. "
   ]
  },
  {
   "cell_type": "markdown",
   "metadata": {},
   "source": [
    "**`%`를 사용하는 C 스타일 formatting**\n",
    "\n",
    "- C에서 시작된 포맷팅 방식으로, 익숙하게 대부분의 언어들에서 통용된다는 것이 장점\n",
    "- tuple과 dictionary를 사용할 수 있으며, 4가지 불편함 존재.\n",
    "- tuple style: % 앞에는 문자열 형식, 뒤에는 튜플을 사용함.\n",
    "\n",
    "    1. tuple 내 변수들의 순서를 마음대로 바꿀 수 없다. \n",
    "    2. Formatting 시 변수의 값을 살짝 바꿔주고 싶을 때, 복잡하고 가독성이 떨어진다. \n",
    "    3. 같은 값을 여러 번 사용하고 싶다면 tuple에서 같은 값을 여러 번 반복해야 한다. \n",
    "\n",
    "- dictionary style: % 앞에는 문자열 형식, 뒤에는 딕셔너리를 사용함. 1번과 3번 불편함을 해소할 수 있음. \n",
    "\n",
    "    4. Dictionary 사용 시 문장이 길어지고, 번잡스러워진다. "
   ]
  },
  {
   "cell_type": "code",
   "execution_count": 22,
   "metadata": {},
   "outputs": [
    {
     "name": "stdout",
     "output_type": "stream",
     "text": [
      "my_var     = 1.23\n"
     ]
    }
   ],
   "source": [
    "# tuple style 예시\n",
    "key = 'my_var'\n",
    "value = 1.234\n",
    "formatted = '%-10s = %.2f' % (key, value)\n",
    "print(formatted)"
   ]
  },
  {
   "cell_type": "code",
   "execution_count": 23,
   "metadata": {},
   "outputs": [],
   "source": [
    "# dictionary style 예시\n",
    "name = 'Max'\n",
    "\n",
    "template = '%s loves food. See %s cook.'\n",
    "before = template % (name, name)   # Tuple\n",
    "\n",
    "template = '%(name)s loves food. See %(name)s cook.'\n",
    "after = template % {'name': name}  # Dictionary\n",
    "\n",
    "assert before == after"
   ]
  },
  {
   "cell_type": "code",
   "execution_count": 25,
   "metadata": {},
   "outputs": [],
   "source": [
    "# 값을 바꿀 때 가독성이 매우 떨어짐\n",
    "pantry = [\n",
    "    ('avocados', 1.25),\n",
    "    ('bananas', 2.5),\n",
    "    ('cherries', 15),\n",
    "]\n",
    "\n",
    "for i, (item, count) in enumerate(pantry):\n",
    "    before = '#%d: %-10s = %d' % (\n",
    "        i + 1,\n",
    "        item.title(),\n",
    "        round(count))\n",
    "\n",
    "    after = '#%(loop)d: %(item)-10s = %(count)d' % {\n",
    "        'loop': i + 1,\n",
    "        'item': item.title(),\n",
    "        'count': round(count),\n",
    "    }\n",
    "\n",
    "    assert before == after"
   ]
  },
  {
   "cell_type": "markdown",
   "metadata": {},
   "source": [
    "**내장함수 `format`과 `str.format`**\n",
    "\n",
    "- 오래된 스타일의 C 스타일 문자열보다 더 표현력이 좋은 고급 문자열 formatting 기능\n",
    "- 하지만 여전히 2번째 문제점(formatting 시 값의 변경이 필요한 경우 코드가 복잡해지는 문제)을 갖고 있음"
   ]
  },
  {
   "cell_type": "code",
   "execution_count": 26,
   "metadata": {},
   "outputs": [
    {
     "name": "stdout",
     "output_type": "stream",
     "text": [
      "1,234.57\n",
      "*      my string       *\n"
     ]
    }
   ],
   "source": [
    "# format 예시\n",
    "a = 1234.5678\n",
    "formatted = format(a, ',.2f')\n",
    "print(formatted)\n",
    "\n",
    "b = 'my string'\n",
    "formatted = format(b, '^20s')\n",
    "print('*', formatted, '*')"
   ]
  },
  {
   "cell_type": "code",
   "execution_count": 32,
   "metadata": {},
   "outputs": [
    {
     "name": "stdout",
     "output_type": "stream",
     "text": [
      "my_var     = 1.23\n",
      "1.234 = my_var\n"
     ]
    }
   ],
   "source": [
    "# str.format 예시\n",
    "key = 'my_var'\n",
    "value = 1.234\n",
    "\n",
    "formatted = '{:<10} = {:.2f}'.format(key, value) # help('FORMATTING')\n",
    "print(formatted)\n",
    "\n",
    "formatted = '{1} = {0}'.format(key, value)\n",
    "print(formatted)"
   ]
  },
  {
   "cell_type": "markdown",
   "metadata": {},
   "source": [
    "**Interpolation을 통한 formatting**\n",
    "\n",
    "- 짧게 `f-문자열`이라고 부름\n",
    "- C-style formatting과 format 내장 함수를 사용하는 방법은 f-문자열의 동작과 유용성을 이해하는 데 도움을 주는 역사적인 유물로 간주해야 한다!\n",
    "- formatting 시 파이썬 영역에서 사용할 수 있는 모든 이름을 자유롭게 참조할 수 있도록 허용함으로써 간결함을 제공"
   ]
  },
  {
   "cell_type": "code",
   "execution_count": 30,
   "metadata": {},
   "outputs": [
    {
     "name": "stdout",
     "output_type": "stream",
     "text": [
      "'my_var    ' = 1.23\n"
     ]
    }
   ],
   "source": [
    "# f-string 예시\n",
    "key = 'my_var'\n",
    "value = 1.234\n",
    "\n",
    "formatted = f'{key:<10} = {value:.2f}'\n",
    "print(formatted)"
   ]
  },
  {
   "cell_type": "markdown",
   "metadata": {},
   "source": [
    "**C-style VS format 함수 VS f-string 비교**"
   ]
  },
  {
   "cell_type": "code",
   "execution_count": null,
   "metadata": {},
   "outputs": [],
   "source": [
    "f_string = f'{key:<10} = {value:.2f}'\n",
    "\n",
    "c_tuple  = '%-10s = %.2f' % (key, value)\n",
    "\n",
    "str_args = '{:<10} = {:.2f}'.format(key, value)\n",
    "\n",
    "str_kw   = '{key:<10} = {value:.2f}'.format(key=key, value=value)\n",
    "\n",
    "c_dict   = '%(key)-10s = %(value).2f' % {'key': key, 'value': value}"
   ]
  },
  {
   "cell_type": "code",
   "execution_count": 34,
   "metadata": {},
   "outputs": [],
   "source": [
    "for i, (item, count) in enumerate(pantry):\n",
    "    old_style = '#%d: %-10s = %d' % (\n",
    "        i + 1,\n",
    "        item.title(),\n",
    "        round(count))\n",
    "\n",
    "    new_style = '#{}: {:<10s} = {}'.format(\n",
    "        i + 1,\n",
    "        item.title(),\n",
    "        round(count))\n",
    "\n",
    "    f_string = f'#{i+1}: {item.title():<10s} = {round(count)}'\n",
    "\n",
    "    assert old_style == new_style == f_string"
   ]
  },
  {
   "cell_type": "markdown",
   "metadata": {},
   "source": [
    "## Better way 5. 복잡한 식을 쓰는 대신 도우미 함수를 작성하라\n",
    "\n",
    "- 파이썬 문법을 사용하면 아주 복잡하고 읽기 어려운 한 줄짜리 식을 작성할 수 있다. \n",
    "- 복잡한 식은 도우미 함수로 작성하라. 특히 같은 로직을 2번 이상 반복해 사용할 때는 도우미 함수를 꼭 사용해라. \n",
    "- boolean 연산자 or나 and를 사용하는 것보다 if/else 식을 쓰는 것이 가독성이 더 좋다. "
   ]
  },
  {
   "cell_type": "code",
   "execution_count": 35,
   "metadata": {},
   "outputs": [
    {
     "name": "stdout",
     "output_type": "stream",
     "text": [
      "{'red': ['5'], 'blue': ['0'], 'green': ['']}\n"
     ]
    }
   ],
   "source": [
    "from urllib.parse import parse_qs\n",
    "\n",
    "my_values = parse_qs('red=5&blue=0&green=',\n",
    "                     keep_blank_values=True)\n",
    "print(repr(my_values))"
   ]
  },
  {
   "cell_type": "markdown",
   "metadata": {},
   "source": [
    "파라미터가 없거나 비어 있을 경우 0이 디폴트 값으로 대입되도록 해보자. "
   ]
  },
  {
   "cell_type": "code",
   "execution_count": 41,
   "metadata": {},
   "outputs": [
    {
     "name": "stdout",
     "output_type": "stream",
     "text": [
      "Red:     5\n",
      "Green:   0\n",
      "Opacity: 0\n"
     ]
    }
   ],
   "source": [
    "# or 연산자 사용\n",
    "red = my_values.get('red', [''])[0] or 0\n",
    "green = my_values.get('green', [''])[0] or 0\n",
    "opacity = my_values.get('opacity', [''])[0] or 0\n",
    "\n",
    "print(f'Red:     {red}')\n",
    "print(f'Green:   {green}')\n",
    "print(f'Opacity: {opacity}')"
   ]
  },
  {
   "cell_type": "code",
   "execution_count": 42,
   "metadata": {},
   "outputs": [
    {
     "name": "stdout",
     "output_type": "stream",
     "text": [
      "Red:     5\n",
      "Green:   0\n",
      "Opacity: 0\n"
     ]
    }
   ],
   "source": [
    "# if/else 문 사용\n",
    "red_str = my_values.get('red', [''])\n",
    "red = int(red_str[0]) if red_str[0] else 0\n",
    "green_str = my_values.get('green', [''])\n",
    "green = int(green_str[0]) if green_str[0] else 0\n",
    "opacity_str = my_values.get('opacity', [''])\n",
    "opacity = int(opacity_str[0]) if opacity_str[0] else 0\n",
    "\n",
    "print(f'Red:     {red}')\n",
    "print(f'Green:   {green}')\n",
    "print(f'Opacity: {opacity}')"
   ]
  },
  {
   "cell_type": "code",
   "execution_count": 43,
   "metadata": {},
   "outputs": [
    {
     "name": "stdout",
     "output_type": "stream",
     "text": [
      "Red:     5\n",
      "Green:   0\n",
      "Opacity: 0\n"
     ]
    }
   ],
   "source": [
    "# 도우미 함수 작성\n",
    "def get_first_int(values, key, default=0):\n",
    "    found = values.get(key, [''])\n",
    "    if found[0]:\n",
    "        return int(found[0])\n",
    "    return default\n",
    "\n",
    "red = get_first_int(my_values, 'red')\n",
    "green = get_first_int(my_values, 'green')\n",
    "opacity = get_first_int(my_values, 'opacity')\n",
    "\n",
    "print(f'Red:     {red}')\n",
    "print(f'Green:   {green}')\n",
    "print(f'Opacity: {opacity}')"
   ]
  }
 ],
 "metadata": {
  "kernelspec": {
   "display_name": "Python 3.9.7 ('base')",
   "language": "python",
   "name": "python3"
  },
  "language_info": {
   "codemirror_mode": {
    "name": "ipython",
    "version": 3
   },
   "file_extension": ".py",
   "mimetype": "text/x-python",
   "name": "python",
   "nbconvert_exporter": "python",
   "pygments_lexer": "ipython3",
   "version": "3.9.7"
  },
  "orig_nbformat": 4,
  "vscode": {
   "interpreter": {
    "hash": "a077222d77dfe082b8f1dd562ad70e458ac2ab76993a0b248ab0476e32e9e8dd"
   }
  }
 },
 "nbformat": 4,
 "nbformat_minor": 2
}
